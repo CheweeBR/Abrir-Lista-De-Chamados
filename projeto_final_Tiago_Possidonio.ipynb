{
  "nbformat": 4,
  "nbformat_minor": 0,
  "metadata": {
    "colab": {
      "provenance": [],
      "mount_file_id": "1NENgnd9sWcy6mfw_bvXlJ3vbedL-TEDk",
      "authorship_tag": "ABX9TyPcZ3ZReGpTOLzUdocv2Kqy",
      "include_colab_link": true
    },
    "kernelspec": {
      "name": "python3",
      "display_name": "Python 3"
    },
    "language_info": {
      "name": "python"
    }
  },
  "cells": [
    {
      "cell_type": "markdown",
      "metadata": {
        "id": "view-in-github",
        "colab_type": "text"
      },
      "source": [
        "<a href=\"https://colab.research.google.com/github/CheweeBR/Abrir-Lista-De-Chamados/blob/main/projeto_final_Tiago_Possidonio.ipynb\" target=\"_parent\"><img src=\"https://colab.research.google.com/assets/colab-badge.svg\" alt=\"Open In Colab\"/></a>"
      ]
    },
    {
      "cell_type": "code",
      "source": [
        "from google.colab import drive\n",
        "drive.mount('/content/drive')\n"
      ],
      "metadata": {
        "id": "PtJ6xUVoA9e3"
      },
      "execution_count": null,
      "outputs": []
    },
    {
      "cell_type": "code",
      "source": [
        "import os\n",
        "import glob\n",
        "import cv2\n",
        "import numpy as np\n",
        "import matplotlib.pyplot as plt\n",
        "import seaborn as sns\n",
        "\n",
        "from google.colab import drive\n",
        "from sklearn.svm import SVC\n",
        "from sklearn.metrics import accuracy_score, classification_report, confusion_matrix\n",
        "\n",
        "drive.mount('/content/drive')\n",
        "\n",
        "dataset_path = '/content/drive/MyDrive/Colab Notebooks/Extração e Classificação/dataset'\n",
        "\n",
        "if not os.path.exists(dataset_path):\n",
        "    print(\"Caminho não encontrado:\", dataset_path)\n",
        "else:\n",
        "    print(\"Caminho encontrado:\", dataset_path)\n",
        "\n",
        "def extract_color_histogram_hsv(image, histSize=8):\n",
        "    \"\"\"\n",
        "    Converte a imagem de BGR para HSV e extrai um histograma 3D (H, S, V) com 'histSize' bins para cada canal.\n",
        "    Retorna o histograma normalizado como um vetor 1D.\n",
        "    \"\"\"\n",
        "    hsv = cv2.cvtColor(image, cv2.COLOR_BGR2HSV)\n",
        "\n",
        "    h_bins = s_bins = v_bins = histSize\n",
        "\n",
        "    hist = cv2.calcHist([hsv], [0, 1, 2], None,\n",
        "                        [h_bins, s_bins, v_bins],\n",
        "                        [0, 180, 0, 256, 0, 256])\n",
        "\n",
        "    cv2.normalize(hist, hist, 0, 1, cv2.NORM_MINMAX)\n",
        "\n",
        "    return hist.flatten()\n",
        "\n",
        "def load_data_and_labels(folder_path):\n",
        "    \"\"\"\n",
        "    Percorre as subpastas de 'folder_path' (cada uma representando uma classe)\n",
        "    e retorna:\n",
        "      X -> array com vetores de características extraídas de cada imagem\n",
        "      y -> array com os rótulos (índices correspondentes às classes)\n",
        "      class_names -> lista com os nomes das classes (subpastas) em ordem alfabética\n",
        "    \"\"\"\n",
        "    X = []\n",
        "    y = []\n",
        "    class_names = sorted(os.listdir(folder_path))\n",
        "    print(\"Classes encontradas em\", folder_path, \":\", class_names)\n",
        "\n",
        "    for label_idx, cls_name in enumerate(class_names):\n",
        "        subfolder = os.path.join(folder_path, cls_name)\n",
        "        if not os.path.isdir(subfolder):\n",
        "            continue\n",
        "\n",
        "        image_files = glob.glob(os.path.join(subfolder, '*.jpg'))\n",
        "        image_files += glob.glob(os.path.join(subfolder, '*.jpeg'))\n",
        "        image_files += glob.glob(os.path.join(subfolder, '*.png'))\n",
        "        image_files += glob.glob(os.path.join(subfolder, '*.JPG'))\n",
        "\n",
        "        print(f\"Classe '{cls_name}': {len(image_files)} imagens encontradas.\")\n",
        "\n",
        "        for img_file in image_files:\n",
        "            img = cv2.imread(img_file)\n",
        "            if img is not None:\n",
        "                img = cv2.resize(img, (224, 224))\n",
        "                features = extract_color_histogram_hsv(img)\n",
        "                X.append(features)\n",
        "                y.append(label_idx)\n",
        "            else:\n",
        "                print(\"Não foi possível ler a imagem:\", img_file)\n",
        "\n",
        "    return np.array(X), np.array(y), class_names\n",
        "\n",
        "train_dir = os.path.join(dataset_path, 'train')\n",
        "test_dir = os.path.join(dataset_path, 'test')\n",
        "\n",
        "X_train, y_train, train_classes = load_data_and_labels(train_dir)\n",
        "X_test, y_test, test_classes = load_data_and_labels(test_dir)\n",
        "\n",
        "print(\"\\nShape de X_train:\", X_train.shape)\n",
        "print(\"Shape de y_train:\", y_train.shape)\n",
        "print(\"Shape de X_test:\", X_test.shape)\n",
        "print(\"Shape de y_test:\", y_test.shape)\n",
        "print(\"Classes (treino):\", train_classes)\n",
        "print(\"Classes (teste):\", test_classes)\n",
        "\n",
        "classifier = SVC(kernel='linear')\n",
        "classifier.fit(X_train, y_train)\n",
        "\n",
        "y_pred = classifier.predict(X_test)\n",
        "\n",
        "acc = accuracy_score(y_test, y_pred)\n",
        "print(f\"\\nAcurácia: {acc:.4f}\\n\")\n",
        "\n",
        "print(\"Relatório de Classificação:\")\n",
        "print(classification_report(y_test, y_pred, target_names=test_classes))\n",
        "\n",
        "cm = confusion_matrix(y_test, y_pred)\n",
        "plt.figure(figsize=(6, 4))\n",
        "sns.heatmap(cm, annot=True, fmt='d', cmap='Blues',\n",
        "            xticklabels=test_classes, yticklabels=test_classes)\n",
        "plt.xlabel(\"Previsto\")\n",
        "plt.ylabel(\"Real\")\n",
        "plt.title(\"Matriz de Confusão (SVM + Histograma HSV)\")\n",
        "plt.show()\n"
      ],
      "metadata": {
        "colab": {
          "base_uri": "https://localhost:8080/",
          "height": 1000
        },
        "id": "iFcB3GfPLxCj",
        "outputId": "5752355b-9f2c-4289-e5a5-b0deebe4cbf8"
      },
      "execution_count": 5,
      "outputs": [
        {
          "output_type": "stream",
          "name": "stdout",
          "text": [
            "Drive already mounted at /content/drive; to attempt to forcibly remount, call drive.mount(\"/content/drive\", force_remount=True).\n",
            "Caminho encontrado: /content/drive/MyDrive/Colab Notebooks/Extração e Classificação/dataset\n",
            "Classes encontradas em /content/drive/MyDrive/Colab Notebooks/Extração e Classificação/dataset/train : ['Dark', 'Green', 'Light', 'Medium']\n",
            "Classe 'Dark': 300 imagens encontradas.\n",
            "Classe 'Green': 300 imagens encontradas.\n",
            "Classe 'Light': 300 imagens encontradas.\n",
            "Classe 'Medium': 300 imagens encontradas.\n",
            "Classes encontradas em /content/drive/MyDrive/Colab Notebooks/Extração e Classificação/dataset/test : ['Dark', 'Green', 'Light', 'Medium']\n",
            "Classe 'Dark': 100 imagens encontradas.\n",
            "Classe 'Green': 100 imagens encontradas.\n",
            "Classe 'Light': 100 imagens encontradas.\n",
            "Classe 'Medium': 100 imagens encontradas.\n",
            "\n",
            "Shape de X_train: (1200, 512)\n",
            "Shape de y_train: (1200,)\n",
            "Shape de X_test: (400, 512)\n",
            "Shape de y_test: (400,)\n",
            "Classes (treino): ['Dark', 'Green', 'Light', 'Medium']\n",
            "Classes (teste): ['Dark', 'Green', 'Light', 'Medium']\n",
            "\n",
            "Acurácia: 0.9775\n",
            "\n",
            "Relatório de Classificação:\n",
            "              precision    recall  f1-score   support\n",
            "\n",
            "        Dark       0.97      0.96      0.96       100\n",
            "       Green       0.99      1.00      1.00       100\n",
            "       Light       0.99      1.00      1.00       100\n",
            "      Medium       0.96      0.95      0.95       100\n",
            "\n",
            "    accuracy                           0.98       400\n",
            "   macro avg       0.98      0.98      0.98       400\n",
            "weighted avg       0.98      0.98      0.98       400\n",
            "\n"
          ]
        },
        {
          "output_type": "display_data",
          "data": {
            "text/plain": [
              "<Figure size 600x400 with 2 Axes>"
            ],
            "image/png": "[encoded data removed]"
          },
          "metadata": {}
        }
      ]
    }
  ]
}